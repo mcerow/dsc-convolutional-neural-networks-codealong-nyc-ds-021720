{
 "cells": [
  {
   "cell_type": "markdown",
   "metadata": {},
   "source": [
    "# Convolutional Neural Networks - Codealong\n",
    "\n",
    "## Introduction\n",
    "\n",
    "In this codealong, we will reinvestigate our previous Santa image classification example. To do this, we will review loading a dataset from a nested directory structure and building a baseline model. From there, we'll build a CNN and demonstrate its improved performance on image recognition tasks. It is recommended you run the cells in order to further explore variables and investigate the code snippets themselves. However, please note that some cells (particularly training cells later on) may take several minutes to run. (On a Macbook pro the entire notebook took ~15 minutes to run.)\n",
    "\n",
    "## Objectives  \n",
    "\n",
    "You will be able to:\n",
    "\n",
    "- Load images from a hierarchical file structure using an image datagenerator \n",
    "- Explain why one might augment image data when training a neural network \n",
    "- Apply data augmentation to image files before training a neural network \n",
    "- Build a CNN using Keras "
   ]
  },
  {
   "cell_type": "markdown",
   "metadata": {},
   "source": [
    "## Properly store your images \n",
    "\n",
    "When you're analyzing your image data, file management is important. We will be using the santa images again, but this time, they are stored in two folders: `santa` and `not_santa`. We want to work with a `train`, `validation`, and `test` datasets now, as we know by now that this is the best way to obtain unbiased estimate of your model performance.  \n",
    "\n",
    "Let's import libraries `os` and `shutil`, as we'll need them to create the new folders and move the new files in there."
   ]
  },
  {
   "cell_type": "code",
   "execution_count": 1,
   "metadata": {},
   "outputs": [],
   "source": [
    "import os, shutil"
   ]
  },
  {
   "cell_type": "markdown",
   "metadata": {},
   "source": [
    "Below we create three objects representing the existing directories: `data/santa/` as `data_santa_dir` and `data/not_santa/` as `data_not_santa_dir`. We will create a new directory `split/` as `new_dir`, where we will split the dataset in three groups (or three subdirectories): `train`, `test`, and `validation`, each containing `santa` and `not_santa` subfolders. The final desired structure is represented below: \n",
    "\n",
    "![title](images/folder_structure.png)"
   ]
  },
  {
   "cell_type": "code",
   "execution_count": 2,
   "metadata": {},
   "outputs": [],
   "source": [
    "data_santa_dir = 'data/santa/'\n",
    "data_not_santa_dir = 'data/not_santa/'\n",
    "new_dir = 'split/'"
   ]
  },
  {
   "cell_type": "markdown",
   "metadata": {},
   "source": [
    "You can use `os.listdir()` to create an object that stores all the relevant image names. "
   ]
  },
  {
   "cell_type": "code",
   "execution_count": 3,
   "metadata": {},
   "outputs": [],
   "source": [
    "imgs_santa = [file for file in os.listdir(data_santa_dir) if file.endswith('.jpg')]"
   ]
  },
  {
   "cell_type": "code",
   "execution_count": 4,
   "metadata": {},
   "outputs": [
    {
     "data": {
      "text/plain": [
       "['00000440.jpg',\n",
       " '00000043.jpg',\n",
       " '00000029.jpg',\n",
       " '00000160.jpg',\n",
       " '00000064.jpg',\n",
       " '00000120.jpg',\n",
       " '00000278.jpg',\n",
       " '00000109.jpg',\n",
       " '00000165.jpg',\n",
       " '00000283.jpg']"
      ]
     },
     "execution_count": 4,
     "metadata": {},
     "output_type": "execute_result"
    }
   ],
   "source": [
    "imgs_santa[0:10]"
   ]
  },
  {
   "cell_type": "markdown",
   "metadata": {},
   "source": [
    "Let's see how many images there are in the `santa` directory."
   ]
  },
  {
   "cell_type": "code",
   "execution_count": 5,
   "metadata": {},
   "outputs": [
    {
     "name": "stdout",
     "output_type": "stream",
     "text": [
      "There are 461 santa images\n"
     ]
    }
   ],
   "source": [
    "print('There are', len(imgs_santa), 'santa images')"
   ]
  },
  {
   "cell_type": "markdown",
   "metadata": {},
   "source": [
    "Now, repeat this for the `not_santa` directory: "
   ]
  },
  {
   "cell_type": "code",
   "execution_count": 6,
   "metadata": {},
   "outputs": [],
   "source": [
    "imgs_not_santa = [file for file in os.listdir(data_not_santa_dir) if file.endswith('.jpg')]"
   ]
  },
  {
   "cell_type": "code",
   "execution_count": 7,
   "metadata": {},
   "outputs": [
    {
     "name": "stdout",
     "output_type": "stream",
     "text": [
      "There are 461 images without santa\n"
     ]
    }
   ],
   "source": [
    "print('There are', len(imgs_not_santa), 'images without santa')"
   ]
  },
  {
   "cell_type": "markdown",
   "metadata": {},
   "source": [
    "Create all the folders and subfolders in order to get the structure represented above. You can use `os.path.join()` to create strings that will be used later on to generate new directories."
   ]
  },
  {
   "cell_type": "code",
   "execution_count": 8,
   "metadata": {},
   "outputs": [
    {
     "ename": "FileExistsError",
     "evalue": "[Errno 17] File exists: 'split/'",
     "output_type": "error",
     "traceback": [
      "\u001b[0;31m\u001b[0m",
      "\u001b[0;31mFileExistsError\u001b[0mTraceback (most recent call last)",
      "\u001b[0;32m<ipython-input-8-0d1f8d3cb245>\u001b[0m in \u001b[0;36m<module>\u001b[0;34m\u001b[0m\n\u001b[0;32m----> 1\u001b[0;31m \u001b[0mos\u001b[0m\u001b[0;34m.\u001b[0m\u001b[0mmkdir\u001b[0m\u001b[0;34m(\u001b[0m\u001b[0mnew_dir\u001b[0m\u001b[0;34m)\u001b[0m\u001b[0;34m\u001b[0m\u001b[0;34m\u001b[0m\u001b[0m\n\u001b[0m",
      "\u001b[0;31mFileExistsError\u001b[0m: [Errno 17] File exists: 'split/'"
     ]
    }
   ],
   "source": [
    "os.mkdir(new_dir)"
   ]
  },
  {
   "cell_type": "code",
   "execution_count": 9,
   "metadata": {},
   "outputs": [],
   "source": [
    "train_folder = os.path.join(new_dir, 'train')\n",
    "train_santa = os.path.join(train_folder, 'santa')\n",
    "train_not_santa = os.path.join(train_folder, 'not_santa')\n",
    "\n",
    "test_folder = os.path.join(new_dir, 'test')\n",
    "test_santa = os.path.join(test_folder, 'santa')\n",
    "test_not_santa = os.path.join(test_folder, 'not_santa')\n",
    "\n",
    "val_folder = os.path.join(new_dir, 'validation')\n",
    "val_santa = os.path.join(val_folder, 'santa')\n",
    "val_not_santa = os.path.join(val_folder, 'not_santa')"
   ]
  },
  {
   "cell_type": "code",
   "execution_count": 10,
   "metadata": {},
   "outputs": [
    {
     "data": {
      "text/plain": [
       "'split/train/santa'"
      ]
     },
     "execution_count": 10,
     "metadata": {},
     "output_type": "execute_result"
    }
   ],
   "source": [
    "train_santa"
   ]
  },
  {
   "cell_type": "markdown",
   "metadata": {},
   "source": [
    "Now use all the path strings you created to make new directories. You can use `os.mkdir()` to do this. Go have a look at your directory and see if this worked!"
   ]
  },
  {
   "cell_type": "code",
   "execution_count": 11,
   "metadata": {},
   "outputs": [
    {
     "ename": "FileExistsError",
     "evalue": "[Errno 17] File exists: 'split/test'",
     "output_type": "error",
     "traceback": [
      "\u001b[0;31m\u001b[0m",
      "\u001b[0;31mFileExistsError\u001b[0mTraceback (most recent call last)",
      "\u001b[0;32m<ipython-input-11-9ef278089501>\u001b[0m in \u001b[0;36m<module>\u001b[0;34m\u001b[0m\n\u001b[0;32m----> 1\u001b[0;31m \u001b[0mos\u001b[0m\u001b[0;34m.\u001b[0m\u001b[0mmkdir\u001b[0m\u001b[0;34m(\u001b[0m\u001b[0mtest_folder\u001b[0m\u001b[0;34m)\u001b[0m\u001b[0;34m\u001b[0m\u001b[0;34m\u001b[0m\u001b[0m\n\u001b[0m\u001b[1;32m      2\u001b[0m \u001b[0mos\u001b[0m\u001b[0;34m.\u001b[0m\u001b[0mmkdir\u001b[0m\u001b[0;34m(\u001b[0m\u001b[0mtest_santa\u001b[0m\u001b[0;34m)\u001b[0m\u001b[0;34m\u001b[0m\u001b[0;34m\u001b[0m\u001b[0m\n\u001b[1;32m      3\u001b[0m \u001b[0mos\u001b[0m\u001b[0;34m.\u001b[0m\u001b[0mmkdir\u001b[0m\u001b[0;34m(\u001b[0m\u001b[0mtest_not_santa\u001b[0m\u001b[0;34m)\u001b[0m\u001b[0;34m\u001b[0m\u001b[0;34m\u001b[0m\u001b[0m\n\u001b[1;32m      4\u001b[0m \u001b[0;34m\u001b[0m\u001b[0m\n\u001b[1;32m      5\u001b[0m \u001b[0mos\u001b[0m\u001b[0;34m.\u001b[0m\u001b[0mmkdir\u001b[0m\u001b[0;34m(\u001b[0m\u001b[0mtrain_folder\u001b[0m\u001b[0;34m)\u001b[0m\u001b[0;34m\u001b[0m\u001b[0;34m\u001b[0m\u001b[0m\n",
      "\u001b[0;31mFileExistsError\u001b[0m: [Errno 17] File exists: 'split/test'"
     ]
    }
   ],
   "source": [
    "os.mkdir(test_folder)\n",
    "os.mkdir(test_santa)\n",
    "os.mkdir(test_not_santa)\n",
    "\n",
    "os.mkdir(train_folder)\n",
    "os.mkdir(train_santa)\n",
    "os.mkdir(train_not_santa)\n",
    "\n",
    "os.mkdir(val_folder)\n",
    "os.mkdir(val_santa)\n",
    "os.mkdir(val_not_santa)"
   ]
  },
  {
   "cell_type": "markdown",
   "metadata": {},
   "source": [
    "Copy the Santa images in the three santa subfolders. Let's put the first 271 images in the training set, the next 100 images in the validation set and the final 90 images in the test set."
   ]
  },
  {
   "cell_type": "code",
   "execution_count": 12,
   "metadata": {},
   "outputs": [],
   "source": [
    "# train santa\n",
    "imgs = imgs_santa[:271]\n",
    "for img in imgs:\n",
    "    origin = os.path.join(data_santa_dir, img)\n",
    "    destination = os.path.join(train_santa, img)\n",
    "    shutil.copyfile(origin, destination)"
   ]
  },
  {
   "cell_type": "code",
   "execution_count": 13,
   "metadata": {},
   "outputs": [],
   "source": [
    "# validation santa\n",
    "imgs = imgs_santa[271:371]\n",
    "for img in imgs:\n",
    "    origin = os.path.join(data_santa_dir, img)\n",
    "    destination = os.path.join(val_santa, img)\n",
    "    shutil.copyfile(origin, destination)"
   ]
  },
  {
   "cell_type": "code",
   "execution_count": 14,
   "metadata": {},
   "outputs": [],
   "source": [
    "# test santa\n",
    "imgs = imgs_santa[371:]\n",
    "for img in imgs:\n",
    "    origin = os.path.join(data_santa_dir, img)\n",
    "    destination = os.path.join(test_santa, img)\n",
    "    shutil.copyfile(origin, destination)"
   ]
  },
  {
   "cell_type": "markdown",
   "metadata": {},
   "source": [
    "Now, repeat all this for the `not_santa` images!"
   ]
  },
  {
   "cell_type": "code",
   "execution_count": 15,
   "metadata": {},
   "outputs": [],
   "source": [
    "# train not_santa\n",
    "imgs = imgs_not_santa[:271]\n",
    "for img in imgs:\n",
    "    origin = os.path.join(data_not_santa_dir, img)\n",
    "    destination = os.path.join(train_not_santa, img)\n",
    "    shutil.copyfile(origin, destination)\n",
    "# validation not_santa\n",
    "imgs = imgs_not_santa[271:371]\n",
    "for img in imgs:\n",
    "    origin = os.path.join(data_not_santa_dir, img)\n",
    "    destination = os.path.join(val_not_santa, img)\n",
    "    shutil.copyfile(origin, destination)\n",
    "# test not_santa\n",
    "imgs = imgs_not_santa[371:]\n",
    "for img in imgs:\n",
    "    origin = os.path.join(data_not_santa_dir, img)\n",
    "    destination = os.path.join(test_not_santa, img)\n",
    "    shutil.copyfile(origin, destination)"
   ]
  },
  {
   "cell_type": "markdown",
   "metadata": {},
   "source": [
    "Let's print out how many images we have in each directory so we know for sure our numbers are right!"
   ]
  },
  {
   "cell_type": "code",
   "execution_count": 16,
   "metadata": {},
   "outputs": [
    {
     "name": "stdout",
     "output_type": "stream",
     "text": [
      "There are 375 santa images in the training set\n"
     ]
    }
   ],
   "source": [
    "print('There are', len(os.listdir(train_santa)), 'santa images in the training set')"
   ]
  },
  {
   "cell_type": "code",
   "execution_count": 17,
   "metadata": {},
   "outputs": [
    {
     "name": "stdout",
     "output_type": "stream",
     "text": [
      "There are 174 santa images in the validation set\n"
     ]
    }
   ],
   "source": [
    "print('There are', len(os.listdir(val_santa)), 'santa images in the validation set')"
   ]
  },
  {
   "cell_type": "code",
   "execution_count": 18,
   "metadata": {},
   "outputs": [
    {
     "name": "stdout",
     "output_type": "stream",
     "text": [
      "There are 154 santa images in the test set\n"
     ]
    }
   ],
   "source": [
    "print('There are', len(os.listdir(test_santa)), 'santa images in the test set')"
   ]
  },
  {
   "cell_type": "code",
   "execution_count": 19,
   "metadata": {},
   "outputs": [
    {
     "name": "stdout",
     "output_type": "stream",
     "text": [
      "There are 376 images without santa in the train set\n"
     ]
    }
   ],
   "source": [
    "print('There are', len(os.listdir(train_not_santa)), 'images without santa in the train set')"
   ]
  },
  {
   "cell_type": "code",
   "execution_count": 20,
   "metadata": {},
   "outputs": [
    {
     "name": "stdout",
     "output_type": "stream",
     "text": [
      "There are 174 images without santa in the validation set\n"
     ]
    }
   ],
   "source": [
    "print('There are', len(os.listdir(val_not_santa)), 'images without santa in the validation set')"
   ]
  },
  {
   "cell_type": "code",
   "execution_count": 21,
   "metadata": {},
   "outputs": [
    {
     "name": "stdout",
     "output_type": "stream",
     "text": [
      "There are 153 images without santa in the test set\n"
     ]
    }
   ],
   "source": [
    "print('There are', len(os.listdir(test_not_santa)), 'images without santa in the test set')"
   ]
  },
  {
   "cell_type": "markdown",
   "metadata": {},
   "source": [
    "## Use a densely connected network as a baseline"
   ]
  },
  {
   "cell_type": "markdown",
   "metadata": {},
   "source": [
    "Now that we've a handle on our data, we can easily use Keras' module with image-processing tools. Let's import the necessary libraries below. "
   ]
  },
  {
   "cell_type": "code",
   "execution_count": 23,
   "metadata": {},
   "outputs": [
    {
     "name": "stdout",
     "output_type": "stream",
     "text": [
      "Collecting Pillow\n",
      "\u001b[?25l  Downloading https://files.pythonhosted.org/packages/e0/50/8e78e6f62ffa50d6ca95c281d5a2819bef66d023ac1b723e253de5bda9c5/Pillow-7.1.2-cp36-cp36m-manylinux1_x86_64.whl (2.1MB)\n",
      "\u001b[K     |████████████████████████████████| 2.1MB 5.8MB/s eta 0:00:01\n",
      "\u001b[?25hInstalling collected packages: Pillow\n",
      "Successfully installed Pillow-7.1.2\n"
     ]
    },
    {
     "name": "stderr",
     "output_type": "stream",
     "text": [
      "Using TensorFlow backend.\n",
      "/opt/conda/envs/learn-env/lib/python3.6/site-packages/tensorflow/python/framework/dtypes.py:517: FutureWarning: Passing (type, 1) or '1type' as a synonym of type is deprecated; in a future version of numpy, it will be understood as (type, (1,)) / '(1,)type'.\n",
      "  _np_qint8 = np.dtype([(\"qint8\", np.int8, 1)])\n",
      "/opt/conda/envs/learn-env/lib/python3.6/site-packages/tensorflow/python/framework/dtypes.py:518: FutureWarning: Passing (type, 1) or '1type' as a synonym of type is deprecated; in a future version of numpy, it will be understood as (type, (1,)) / '(1,)type'.\n",
      "  _np_quint8 = np.dtype([(\"quint8\", np.uint8, 1)])\n",
      "/opt/conda/envs/learn-env/lib/python3.6/site-packages/tensorflow/python/framework/dtypes.py:519: FutureWarning: Passing (type, 1) or '1type' as a synonym of type is deprecated; in a future version of numpy, it will be understood as (type, (1,)) / '(1,)type'.\n",
      "  _np_qint16 = np.dtype([(\"qint16\", np.int16, 1)])\n",
      "/opt/conda/envs/learn-env/lib/python3.6/site-packages/tensorflow/python/framework/dtypes.py:520: FutureWarning: Passing (type, 1) or '1type' as a synonym of type is deprecated; in a future version of numpy, it will be understood as (type, (1,)) / '(1,)type'.\n",
      "  _np_quint16 = np.dtype([(\"quint16\", np.uint16, 1)])\n",
      "/opt/conda/envs/learn-env/lib/python3.6/site-packages/tensorflow/python/framework/dtypes.py:521: FutureWarning: Passing (type, 1) or '1type' as a synonym of type is deprecated; in a future version of numpy, it will be understood as (type, (1,)) / '(1,)type'.\n",
      "  _np_qint32 = np.dtype([(\"qint32\", np.int32, 1)])\n",
      "/opt/conda/envs/learn-env/lib/python3.6/site-packages/tensorflow/python/framework/dtypes.py:526: FutureWarning: Passing (type, 1) or '1type' as a synonym of type is deprecated; in a future version of numpy, it will be understood as (type, (1,)) / '(1,)type'.\n",
      "  np_resource = np.dtype([(\"resource\", np.ubyte, 1)])\n"
     ]
    }
   ],
   "source": [
    "!pip install Pillow\n",
    "\n",
    "import time\n",
    "import matplotlib.pyplot as plt\n",
    "import scipy\n",
    "import numpy as np\n",
    "from PIL import Image\n",
    "from scipy import ndimage\n",
    "from keras.preprocessing.image import ImageDataGenerator, array_to_img, img_to_array, load_img\n",
    "\n",
    "np.random.seed(123)"
   ]
  },
  {
   "cell_type": "code",
   "execution_count": 24,
   "metadata": {},
   "outputs": [
    {
     "name": "stdout",
     "output_type": "stream",
     "text": [
      "Found 307 images belonging to 2 classes.\n",
      "Found 348 images belonging to 2 classes.\n",
      "Found 751 images belonging to 2 classes.\n"
     ]
    }
   ],
   "source": [
    "# get all the data in the directory split/test (180 images), and reshape them\n",
    "test_generator = ImageDataGenerator(rescale=1./255).flow_from_directory(\n",
    "        test_folder, \n",
    "        target_size=(64, 64), batch_size = 180) \n",
    "\n",
    "# get all the data in the directory split/validation (200 images), and reshape them\n",
    "val_generator = ImageDataGenerator(rescale=1./255).flow_from_directory(\n",
    "        val_folder, \n",
    "        target_size=(64, 64), batch_size = 200)\n",
    "\n",
    "# get all the data in the directory split/train (542 images), and reshape them\n",
    "train_generator = ImageDataGenerator(rescale=1./255).flow_from_directory(\n",
    "        train_folder, \n",
    "        target_size=(64, 64), batch_size=542)"
   ]
  },
  {
   "cell_type": "code",
   "execution_count": 25,
   "metadata": {},
   "outputs": [],
   "source": [
    "# create the data sets\n",
    "train_images, train_labels = next(train_generator)\n",
    "test_images, test_labels = next(test_generator)\n",
    "val_images, val_labels = next(val_generator)"
   ]
  },
  {
   "cell_type": "code",
   "execution_count": 26,
   "metadata": {},
   "outputs": [
    {
     "name": "stdout",
     "output_type": "stream",
     "text": [
      "Number of training samples: 542\n",
      "Number of testing samples: 180\n",
      "Number of validation samples: 200\n",
      "train_images shape: (542, 64, 64, 3)\n",
      "train_labels shape: (542, 2)\n",
      "test_images shape: (180, 64, 64, 3)\n",
      "test_labels shape: (180, 2)\n",
      "val_images shape: (200, 64, 64, 3)\n",
      "val_labels shape: (200, 2)\n"
     ]
    }
   ],
   "source": [
    "# Explore your dataset again\n",
    "m_train = train_images.shape[0]\n",
    "num_px = train_images.shape[1]\n",
    "m_test = test_images.shape[0]\n",
    "m_val = val_images.shape[0]\n",
    "\n",
    "print (\"Number of training samples: \" + str(m_train))\n",
    "print (\"Number of testing samples: \" + str(m_test))\n",
    "print (\"Number of validation samples: \" + str(m_val))\n",
    "print (\"train_images shape: \" + str(train_images.shape))\n",
    "print (\"train_labels shape: \" + str(train_labels.shape))\n",
    "print (\"test_images shape: \" + str(test_images.shape))\n",
    "print (\"test_labels shape: \" + str(test_labels.shape))\n",
    "print (\"val_images shape: \" + str(val_images.shape))\n",
    "print (\"val_labels shape: \" + str(val_labels.shape))"
   ]
  },
  {
   "cell_type": "code",
   "execution_count": 27,
   "metadata": {},
   "outputs": [
    {
     "name": "stdout",
     "output_type": "stream",
     "text": [
      "(542, 12288)\n",
      "(180, 12288)\n",
      "(200, 12288)\n"
     ]
    }
   ],
   "source": [
    "train_img = train_images.reshape(train_images.shape[0], -1)\n",
    "test_img = test_images.reshape(test_images.shape[0], -1)\n",
    "val_img = val_images.reshape(val_images.shape[0], -1)\n",
    "\n",
    "print(train_img.shape)\n",
    "print(test_img.shape)\n",
    "print(val_img.shape)"
   ]
  },
  {
   "cell_type": "code",
   "execution_count": 28,
   "metadata": {},
   "outputs": [],
   "source": [
    "train_y = np.reshape(train_labels[:,0], (542,1))\n",
    "test_y = np.reshape(test_labels[:,0], (180,1))\n",
    "val_y = np.reshape(val_labels[:,0], (200,1))"
   ]
  },
  {
   "cell_type": "code",
   "execution_count": 29,
   "metadata": {},
   "outputs": [],
   "source": [
    "# Build a baseline fully connected model\n",
    "from keras import models\n",
    "from keras import layers\n",
    "np.random.seed(123)\n",
    "model = models.Sequential()\n",
    "model.add(layers.Dense(20, activation='relu', input_shape=(12288,))) # 2 hidden layers\n",
    "model.add(layers.Dense(7, activation='relu'))\n",
    "model.add(layers.Dense(5, activation='relu'))\n",
    "model.add(layers.Dense(1, activation='sigmoid'))"
   ]
  },
  {
   "cell_type": "code",
   "execution_count": 30,
   "metadata": {},
   "outputs": [
    {
     "name": "stdout",
     "output_type": "stream",
     "text": [
      "Train on 542 samples, validate on 200 samples\n",
      "Epoch 1/50\n",
      "542/542 [==============================] - 0s 657us/step - loss: 0.6991 - acc: 0.5387 - val_loss: 0.6882 - val_acc: 0.6100\n",
      "Epoch 2/50\n",
      "542/542 [==============================] - 0s 185us/step - loss: 0.6800 - acc: 0.5554 - val_loss: 0.6956 - val_acc: 0.5550\n",
      "Epoch 3/50\n",
      "542/542 [==============================] - 0s 186us/step - loss: 0.6665 - acc: 0.5646 - val_loss: 0.6550 - val_acc: 0.6950\n",
      "Epoch 4/50\n",
      "542/542 [==============================] - 0s 201us/step - loss: 0.6575 - acc: 0.6125 - val_loss: 0.6412 - val_acc: 0.7250\n",
      "Epoch 5/50\n",
      "542/542 [==============================] - 0s 198us/step - loss: 0.6298 - acc: 0.6679 - val_loss: 0.6125 - val_acc: 0.5950\n",
      "Epoch 6/50\n",
      "542/542 [==============================] - 0s 186us/step - loss: 0.6102 - acc: 0.6863 - val_loss: 0.5939 - val_acc: 0.6950\n",
      "Epoch 7/50\n",
      "542/542 [==============================] - 0s 200us/step - loss: 0.6002 - acc: 0.6937 - val_loss: 0.6061 - val_acc: 0.7850\n",
      "Epoch 8/50\n",
      "542/542 [==============================] - 0s 200us/step - loss: 0.5745 - acc: 0.7232 - val_loss: 0.5685 - val_acc: 0.6450\n",
      "Epoch 9/50\n",
      "542/542 [==============================] - 0s 201us/step - loss: 0.5427 - acc: 0.7860 - val_loss: 0.5545 - val_acc: 0.6200\n",
      "Epoch 10/50\n",
      "542/542 [==============================] - 0s 212us/step - loss: 0.5329 - acc: 0.7675 - val_loss: 0.5736 - val_acc: 0.5700\n",
      "Epoch 11/50\n",
      "542/542 [==============================] - 0s 207us/step - loss: 0.5066 - acc: 0.7786 - val_loss: 0.5229 - val_acc: 0.8250\n",
      "Epoch 12/50\n",
      "542/542 [==============================] - 0s 193us/step - loss: 0.5272 - acc: 0.7454 - val_loss: 0.5524 - val_acc: 0.7600\n",
      "Epoch 13/50\n",
      "542/542 [==============================] - 0s 216us/step - loss: 0.5025 - acc: 0.7823 - val_loss: 0.5914 - val_acc: 0.6850\n",
      "Epoch 14/50\n",
      "542/542 [==============================] - 0s 330us/step - loss: 0.5143 - acc: 0.7491 - val_loss: 0.4942 - val_acc: 0.8500\n",
      "Epoch 15/50\n",
      "542/542 [==============================] - 0s 269us/step - loss: 0.4227 - acc: 0.8542 - val_loss: 0.7687 - val_acc: 0.6150\n",
      "Epoch 16/50\n",
      "542/542 [==============================] - 0s 300us/step - loss: 0.4142 - acc: 0.8339 - val_loss: 0.7062 - val_acc: 0.5500\n",
      "Epoch 17/50\n",
      "542/542 [==============================] - 0s 334us/step - loss: 0.4087 - acc: 0.8339 - val_loss: 0.6607 - val_acc: 0.5850\n",
      "Epoch 18/50\n",
      "542/542 [==============================] - 0s 263us/step - loss: 0.4641 - acc: 0.7731 - val_loss: 0.4786 - val_acc: 0.7900\n",
      "Epoch 19/50\n",
      "542/542 [==============================] - 0s 312us/step - loss: 0.4673 - acc: 0.7970 - val_loss: 0.4524 - val_acc: 0.8050\n",
      "Epoch 20/50\n",
      "542/542 [==============================] - 0s 268us/step - loss: 0.4466 - acc: 0.7897 - val_loss: 0.4555 - val_acc: 0.7800\n",
      "Epoch 21/50\n",
      "542/542 [==============================] - 0s 276us/step - loss: 0.3188 - acc: 0.8967 - val_loss: 0.4070 - val_acc: 0.8450\n",
      "Epoch 22/50\n",
      "542/542 [==============================] - 0s 309us/step - loss: 0.3799 - acc: 0.8192 - val_loss: 0.4171 - val_acc: 0.8500\n",
      "Epoch 23/50\n",
      "542/542 [==============================] - 0s 249us/step - loss: 0.3789 - acc: 0.8358 - val_loss: 0.4833 - val_acc: 0.7750\n",
      "Epoch 24/50\n",
      "542/542 [==============================] - 0s 277us/step - loss: 0.3487 - acc: 0.8469 - val_loss: 0.3920 - val_acc: 0.8750\n",
      "Epoch 25/50\n",
      "542/542 [==============================] - 0s 244us/step - loss: 0.4151 - acc: 0.7878 - val_loss: 0.4009 - val_acc: 0.8450\n",
      "Epoch 26/50\n",
      "542/542 [==============================] - 0s 314us/step - loss: 0.3400 - acc: 0.8469 - val_loss: 0.3982 - val_acc: 0.8400\n",
      "Epoch 27/50\n",
      "542/542 [==============================] - 0s 209us/step - loss: 0.3688 - acc: 0.8542 - val_loss: 0.4175 - val_acc: 0.8250\n",
      "Epoch 28/50\n",
      "542/542 [==============================] - 0s 196us/step - loss: 0.2810 - acc: 0.8948 - val_loss: 0.3820 - val_acc: 0.8550\n",
      "Epoch 29/50\n",
      "542/542 [==============================] - 0s 186us/step - loss: 0.3045 - acc: 0.8764 - val_loss: 0.4338 - val_acc: 0.8150\n",
      "Epoch 30/50\n",
      "542/542 [==============================] - 0s 199us/step - loss: 0.4423 - acc: 0.8081 - val_loss: 0.3803 - val_acc: 0.8500\n",
      "Epoch 31/50\n",
      "542/542 [==============================] - 0s 173us/step - loss: 0.3130 - acc: 0.8745 - val_loss: 0.3650 - val_acc: 0.8700\n",
      "Epoch 32/50\n",
      "542/542 [==============================] - 0s 209us/step - loss: 0.2622 - acc: 0.9077 - val_loss: 0.3612 - val_acc: 0.8650\n",
      "Epoch 33/50\n",
      "542/542 [==============================] - 0s 289us/step - loss: 0.2042 - acc: 0.9354 - val_loss: 0.3450 - val_acc: 0.8800\n",
      "Epoch 34/50\n",
      "542/542 [==============================] - 0s 257us/step - loss: 0.3235 - acc: 0.8948 - val_loss: 0.3802 - val_acc: 0.8600\n",
      "Epoch 35/50\n",
      "542/542 [==============================] - 0s 367us/step - loss: 0.2872 - acc: 0.8893 - val_loss: 0.3648 - val_acc: 0.8750\n",
      "Epoch 36/50\n",
      "542/542 [==============================] - 0s 313us/step - loss: 0.1898 - acc: 0.9373 - val_loss: 1.3601 - val_acc: 0.5200\n",
      "Epoch 37/50\n",
      "542/542 [==============================] - 0s 252us/step - loss: 0.2719 - acc: 0.9114 - val_loss: 0.3401 - val_acc: 0.8950\n",
      "Epoch 38/50\n",
      "542/542 [==============================] - 0s 324us/step - loss: 0.2063 - acc: 0.9188 - val_loss: 0.3199 - val_acc: 0.8900\n",
      "Epoch 39/50\n",
      "542/542 [==============================] - 0s 305us/step - loss: 0.3091 - acc: 0.8542 - val_loss: 0.3149 - val_acc: 0.9050\n",
      "Epoch 40/50\n",
      "542/542 [==============================] - 0s 255us/step - loss: 0.2818 - acc: 0.8708 - val_loss: 0.3593 - val_acc: 0.8850\n",
      "Epoch 41/50\n",
      "542/542 [==============================] - 0s 290us/step - loss: 0.1488 - acc: 0.9649 - val_loss: 0.3188 - val_acc: 0.8850\n",
      "Epoch 42/50\n",
      "542/542 [==============================] - 0s 260us/step - loss: 0.2388 - acc: 0.9059 - val_loss: 1.1505 - val_acc: 0.5300\n",
      "Epoch 43/50\n",
      "542/542 [==============================] - 0s 312us/step - loss: 0.2328 - acc: 0.9151 - val_loss: 0.4333 - val_acc: 0.8450\n",
      "Epoch 44/50\n",
      "542/542 [==============================] - 0s 264us/step - loss: 0.1578 - acc: 0.9465 - val_loss: 0.3011 - val_acc: 0.9050\n",
      "Epoch 45/50\n",
      "542/542 [==============================] - 0s 319us/step - loss: 0.3036 - acc: 0.9096 - val_loss: 0.3577 - val_acc: 0.8800\n",
      "Epoch 46/50\n",
      "542/542 [==============================] - 0s 236us/step - loss: 0.1503 - acc: 0.9649 - val_loss: 0.3177 - val_acc: 0.8850\n",
      "Epoch 47/50\n",
      "542/542 [==============================] - 0s 187us/step - loss: 0.2582 - acc: 0.8930 - val_loss: 0.3032 - val_acc: 0.9000\n",
      "Epoch 48/50\n",
      "542/542 [==============================] - 0s 172us/step - loss: 0.1251 - acc: 0.9520 - val_loss: 0.4018 - val_acc: 0.8400\n",
      "Epoch 49/50\n",
      "542/542 [==============================] - 0s 203us/step - loss: 0.1111 - acc: 0.9686 - val_loss: 0.4118 - val_acc: 0.8650\n",
      "Epoch 50/50\n",
      "542/542 [==============================] - 0s 189us/step - loss: 0.1063 - acc: 0.9631 - val_loss: 0.9844 - val_acc: 0.7100\n"
     ]
    }
   ],
   "source": [
    "model.compile(optimizer='sgd',\n",
    "              loss='binary_crossentropy',\n",
    "              metrics=['accuracy'])\n",
    "\n",
    "histoire = model.fit(train_img,\n",
    "                    train_y,\n",
    "                    epochs=50,\n",
    "                    batch_size=32,\n",
    "                    validation_data=(val_img, val_y))"
   ]
  },
  {
   "cell_type": "code",
   "execution_count": 31,
   "metadata": {},
   "outputs": [
    {
     "name": "stdout",
     "output_type": "stream",
     "text": [
      "542/542 [==============================] - 0s 85us/step\n"
     ]
    }
   ],
   "source": [
    "results_train = model.evaluate(train_img, train_y)"
   ]
  },
  {
   "cell_type": "code",
   "execution_count": 32,
   "metadata": {},
   "outputs": [
    {
     "name": "stdout",
     "output_type": "stream",
     "text": [
      "180/180 [==============================] - 0s 77us/step\n"
     ]
    }
   ],
   "source": [
    "results_test = model.evaluate(test_img, test_y)"
   ]
  },
  {
   "cell_type": "code",
   "execution_count": 33,
   "metadata": {},
   "outputs": [
    {
     "data": {
      "text/plain": [
       "[0.5069349517021672, 0.7822878230981721]"
      ]
     },
     "execution_count": 33,
     "metadata": {},
     "output_type": "execute_result"
    }
   ],
   "source": [
    "results_train"
   ]
  },
  {
   "cell_type": "code",
   "execution_count": 34,
   "metadata": {},
   "outputs": [
    {
     "data": {
      "text/plain": [
       "[0.9057600816090902, 0.6944444470935398]"
      ]
     },
     "execution_count": 34,
     "metadata": {},
     "output_type": "execute_result"
    }
   ],
   "source": [
    "results_test"
   ]
  },
  {
   "cell_type": "markdown",
   "metadata": {},
   "source": [
    "Remember that, in our previous lab on building deeper neural networks from scratch, we obtained a training accuracy of 95%, and a test set accuracy of 74.23%. \n",
    "\n",
    "This result is similar to what we got building our manual \"deeper\" dense model. The results are not entirely different. This is not a surprise!\n",
    "- Before, we only had a training and a validation set (which was at the same time the test set). Now we have split up the data 3-ways.\n",
    "- We didn't use minibatches before, yet we used mini-batches of 32 units here.\n",
    " \n",
    "## Build a CNN"
   ]
  },
  {
   "cell_type": "code",
   "execution_count": 35,
   "metadata": {},
   "outputs": [],
   "source": [
    "model = models.Sequential()\n",
    "model.add(layers.Conv2D(32, (3, 3), activation='relu',\n",
    "                        input_shape=(64 ,64,  3)))\n",
    "model.add(layers.MaxPooling2D((2, 2)))\n",
    "\n",
    "model.add(layers.Conv2D(32, (4, 4), activation='relu'))\n",
    "model.add(layers.MaxPooling2D((2, 2)))\n",
    "\n",
    "model.add(layers.Conv2D(64, (3, 3), activation='relu'))\n",
    "model.add(layers.MaxPooling2D((2, 2)))\n",
    "\n",
    "model.add(layers.Flatten())\n",
    "model.add(layers.Dense(64, activation='relu'))\n",
    "model.add(layers.Dense(1, activation='sigmoid'))\n",
    "\n",
    "model.compile(loss='binary_crossentropy',\n",
    "              optimizer=\"sgd\",\n",
    "              metrics=['acc'])"
   ]
  },
  {
   "cell_type": "code",
   "execution_count": 36,
   "metadata": {},
   "outputs": [
    {
     "name": "stdout",
     "output_type": "stream",
     "text": [
      "Train on 542 samples, validate on 200 samples\n",
      "Epoch 1/30\n",
      "542/542 [==============================] - 5s 10ms/step - loss: 0.6857 - acc: 0.4926 - val_loss: 0.6716 - val_acc: 0.5200\n",
      "Epoch 2/30\n",
      "542/542 [==============================] - 6s 11ms/step - loss: 0.6761 - acc: 0.4852 - val_loss: 0.6668 - val_acc: 0.5400\n",
      "Epoch 3/30\n",
      "542/542 [==============================] - 5s 9ms/step - loss: 0.6679 - acc: 0.5037 - val_loss: 0.6540 - val_acc: 0.5350\n",
      "Epoch 4/30\n",
      "542/542 [==============================] - 6s 12ms/step - loss: 0.6583 - acc: 0.5295 - val_loss: 0.6452 - val_acc: 0.6050\n",
      "Epoch 5/30\n",
      "542/542 [==============================] - 5s 10ms/step - loss: 0.6477 - acc: 0.6033 - val_loss: 0.6328 - val_acc: 0.6650\n",
      "Epoch 6/30\n",
      "542/542 [==============================] - 6s 10ms/step - loss: 0.6352 - acc: 0.6347 - val_loss: 0.6261 - val_acc: 0.8450\n",
      "Epoch 7/30\n",
      "542/542 [==============================] - 6s 10ms/step - loss: 0.6187 - acc: 0.7251 - val_loss: 0.6018 - val_acc: 0.8000\n",
      "Epoch 8/30\n",
      "542/542 [==============================] - 6s 11ms/step - loss: 0.5966 - acc: 0.7804 - val_loss: 0.5813 - val_acc: 0.6150\n",
      "Epoch 9/30\n",
      "542/542 [==============================] - 6s 10ms/step - loss: 0.5730 - acc: 0.7915 - val_loss: 0.5431 - val_acc: 0.7500\n",
      "Epoch 10/30\n",
      "542/542 [==============================] - 5s 10ms/step - loss: 0.5459 - acc: 0.7768 - val_loss: 0.5402 - val_acc: 0.8600\n",
      "Epoch 11/30\n",
      "542/542 [==============================] - 6s 12ms/step - loss: 0.5425 - acc: 0.7638 - val_loss: 0.4826 - val_acc: 0.8900\n",
      "Epoch 12/30\n",
      "542/542 [==============================] - 5s 10ms/step - loss: 0.4970 - acc: 0.8063 - val_loss: 0.4488 - val_acc: 0.8850\n",
      "Epoch 13/30\n",
      "542/542 [==============================] - 6s 11ms/step - loss: 0.4435 - acc: 0.8376 - val_loss: 0.7140 - val_acc: 0.5350\n",
      "Epoch 14/30\n",
      "542/542 [==============================] - 5s 10ms/step - loss: 0.4865 - acc: 0.7546 - val_loss: 0.4944 - val_acc: 0.7200\n",
      "Epoch 15/30\n",
      "542/542 [==============================] - 6s 10ms/step - loss: 0.4876 - acc: 0.7878 - val_loss: 0.3915 - val_acc: 0.8900\n",
      "Epoch 16/30\n",
      "542/542 [==============================] - 5s 10ms/step - loss: 0.4488 - acc: 0.7915 - val_loss: 0.6880 - val_acc: 0.5800\n",
      "Epoch 17/30\n",
      "542/542 [==============================] - 5s 10ms/step - loss: 0.4040 - acc: 0.8284 - val_loss: 0.3572 - val_acc: 0.8850\n",
      "Epoch 18/30\n",
      "542/542 [==============================] - 6s 11ms/step - loss: 0.3407 - acc: 0.8782 - val_loss: 0.3207 - val_acc: 0.8950\n",
      "Epoch 19/30\n",
      "542/542 [==============================] - 6s 10ms/step - loss: 0.4036 - acc: 0.8376 - val_loss: 0.3020 - val_acc: 0.8900\n",
      "Epoch 20/30\n",
      "542/542 [==============================] - 6s 11ms/step - loss: 0.3682 - acc: 0.8487 - val_loss: 0.2931 - val_acc: 0.8950\n",
      "Epoch 21/30\n",
      "542/542 [==============================] - 6s 10ms/step - loss: 0.2885 - acc: 0.8985 - val_loss: 0.7302 - val_acc: 0.6300\n",
      "Epoch 22/30\n",
      "542/542 [==============================] - 6s 11ms/step - loss: 0.3543 - acc: 0.8542 - val_loss: 0.2665 - val_acc: 0.9000\n",
      "Epoch 23/30\n",
      "542/542 [==============================] - 6s 10ms/step - loss: 0.3545 - acc: 0.8266 - val_loss: 0.3792 - val_acc: 0.8250\n",
      "Epoch 24/30\n",
      "542/542 [==============================] - 6s 11ms/step - loss: 0.2791 - acc: 0.8911 - val_loss: 0.2835 - val_acc: 0.9150\n",
      "Epoch 25/30\n",
      "542/542 [==============================] - 6s 11ms/step - loss: 0.2502 - acc: 0.9004 - val_loss: 0.2428 - val_acc: 0.9000\n",
      "Epoch 26/30\n",
      "542/542 [==============================] - 6s 11ms/step - loss: 0.2396 - acc: 0.9077 - val_loss: 0.3907 - val_acc: 0.7950\n",
      "Epoch 27/30\n",
      "542/542 [==============================] - 6s 11ms/step - loss: 0.2251 - acc: 0.9077 - val_loss: 0.2224 - val_acc: 0.9150\n",
      "Epoch 28/30\n",
      "542/542 [==============================] - 5s 10ms/step - loss: 0.2840 - acc: 0.8838 - val_loss: 0.2285 - val_acc: 0.9100\n",
      "Epoch 29/30\n",
      "542/542 [==============================] - 6s 11ms/step - loss: 0.2323 - acc: 0.9170 - val_loss: 0.2427 - val_acc: 0.9000\n",
      "Epoch 30/30\n",
      "542/542 [==============================] - 5s 10ms/step - loss: 0.2182 - acc: 0.9041 - val_loss: 0.2145 - val_acc: 0.9250\n"
     ]
    }
   ],
   "source": [
    "history = model.fit(train_images,\n",
    "                    train_y,\n",
    "                    epochs=30,\n",
    "                    batch_size=32,\n",
    "                    validation_data=(val_images, val_y))"
   ]
  },
  {
   "cell_type": "code",
   "execution_count": 37,
   "metadata": {},
   "outputs": [
    {
     "name": "stdout",
     "output_type": "stream",
     "text": [
      "542/542 [==============================] - 2s 3ms/step\n"
     ]
    }
   ],
   "source": [
    "results_train = model.evaluate(train_images, train_y)"
   ]
  },
  {
   "cell_type": "code",
   "execution_count": 38,
   "metadata": {},
   "outputs": [
    {
     "name": "stdout",
     "output_type": "stream",
     "text": [
      "180/180 [==============================] - 1s 3ms/step\n"
     ]
    }
   ],
   "source": [
    "results_test = model.evaluate(test_images, test_y)"
   ]
  },
  {
   "cell_type": "code",
   "execution_count": 39,
   "metadata": {},
   "outputs": [
    {
     "data": {
      "text/plain": [
       "[0.1921693321963518, 0.9298892991129323]"
      ]
     },
     "execution_count": 39,
     "metadata": {},
     "output_type": "execute_result"
    }
   ],
   "source": [
    "results_train"
   ]
  },
  {
   "cell_type": "code",
   "execution_count": 40,
   "metadata": {},
   "outputs": [
    {
     "data": {
      "text/plain": [
       "[0.2547121885750029, 0.9055555542310079]"
      ]
     },
     "execution_count": 40,
     "metadata": {},
     "output_type": "execute_result"
    }
   ],
   "source": [
    "results_test"
   ]
  },
  {
   "cell_type": "markdown",
   "metadata": {},
   "source": [
    "## Data Augmentation"
   ]
  },
  {
   "cell_type": "markdown",
   "metadata": {},
   "source": [
    "`ImageDataGenerator()` becomes really useful when we *actually* want to generate more data. We'll show you how this works. "
   ]
  },
  {
   "cell_type": "code",
   "execution_count": 41,
   "metadata": {},
   "outputs": [],
   "source": [
    "train_datagen = ImageDataGenerator(rescale=1./255, \n",
    "                                   rotation_range=40, \n",
    "                                   width_shift_range=0.2, \n",
    "                                   height_shift_range=0.2, \n",
    "                                   shear_range=0.3, \n",
    "                                   zoom_range=0.1, \n",
    "                                   horizontal_flip=False)"
   ]
  },
  {
   "cell_type": "code",
   "execution_count": 42,
   "metadata": {},
   "outputs": [
    {
     "data": {
      "image/png": "[encoded data removed]",
      "text/plain": [
       "<Figure size 432x288 with 1 Axes>"
      ]
     },
     "metadata": {
      "needs_background": "light"
     },
     "output_type": "display_data"
    },
    {
     "data": {
      "image/png": "[encoded data removed]",
      "text/plain": [
       "<Figure size 432x288 with 1 Axes>"
      ]
     },
     "metadata": {
      "needs_background": "light"
     },
     "output_type": "display_data"
    },
    {
     "data": {
      "image/png": "[encoded data removed]",
      "text/plain": [
       "<Figure size 432x288 with 1 Axes>"
      ]
     },
     "metadata": {
      "needs_background": "light"
     },
     "output_type": "display_data"
    }
   ],
   "source": [
    "names = [os.path.join(train_santa, name) for name in os.listdir(train_santa)]\n",
    "img_path = names[91]\n",
    "img = load_img(img_path, target_size=(64, 64))\n",
    "\n",
    "reshape_img = img_to_array(img) \n",
    "reshape_img = reshape_img.reshape((1,) + reshape_img.shape) \n",
    "i=0\n",
    "for batch in train_datagen.flow(reshape_img, batch_size=1):\n",
    "    plt.figure(i)\n",
    "    imgplot = plt.imshow(array_to_img(batch[0]))\n",
    "    i += 1\n",
    "    if i % 3 == 0:\n",
    "        break\n",
    "plt.show()"
   ]
  },
  {
   "cell_type": "code",
   "execution_count": 43,
   "metadata": {},
   "outputs": [
    {
     "name": "stdout",
     "output_type": "stream",
     "text": [
      "Found 307 images belonging to 2 classes.\n",
      "Found 348 images belonging to 2 classes.\n",
      "Found 751 images belonging to 2 classes.\n"
     ]
    }
   ],
   "source": [
    "# get all the data in the directory split/test (180 images), and reshape them\n",
    "test_generator = ImageDataGenerator(rescale=1./255).flow_from_directory(\n",
    "        test_folder, \n",
    "        target_size=(64, 64), \n",
    "        batch_size = 180,\n",
    "        class_mode='binary') \n",
    "\n",
    "# get all the data in the directory split/validation (200 images), and reshape them\n",
    "val_generator = ImageDataGenerator(rescale=1./255).flow_from_directory(\n",
    "        val_folder, \n",
    "        target_size=(64, 64),\n",
    "        batch_size = 32,\n",
    "        class_mode='binary')\n",
    "\n",
    "# get all the data in the directory split/train (542 images), and reshape them\n",
    "train_generator = train_datagen.flow_from_directory(\n",
    "        train_folder, \n",
    "        target_size=(64, 64), \n",
    "        batch_size = 32, \n",
    "        class_mode='binary')"
   ]
  },
  {
   "cell_type": "code",
   "execution_count": 44,
   "metadata": {},
   "outputs": [],
   "source": [
    "model = models.Sequential()\n",
    "model.add(layers.Conv2D(32, (3, 3), activation='relu',\n",
    "                        input_shape=(64 ,64,  3)))\n",
    "model.add(layers.MaxPooling2D((2, 2)))\n",
    "\n",
    "model.add(layers.Conv2D(32, (4, 4), activation='relu'))\n",
    "model.add(layers.MaxPooling2D((2, 2)))\n",
    "\n",
    "model.add(layers.Conv2D(64, (3, 3), activation='relu'))\n",
    "model.add(layers.MaxPooling2D((2, 2)))\n",
    "\n",
    "model.add(layers.Flatten())\n",
    "model.add(layers.Dense(64, activation='relu'))\n",
    "model.add(layers.Dense(1, activation='sigmoid'))\n",
    "\n",
    "model.compile(loss='binary_crossentropy',\n",
    "              optimizer= 'sgd',\n",
    "              metrics=['acc'])"
   ]
  },
  {
   "cell_type": "code",
   "execution_count": null,
   "metadata": {},
   "outputs": [
    {
     "name": "stdout",
     "output_type": "stream",
     "text": [
      "Epoch 1/30\n",
      "25/25 [==============================] - 33s 1s/step - loss: 0.6847 - acc: 0.5073 - val_loss: 0.6770 - val_acc: 0.5000\n",
      "Epoch 2/30\n",
      "25/25 [==============================] - 26s 1s/step - loss: 0.6800 - acc: 0.4921 - val_loss: 0.6705 - val_acc: 0.5000\n",
      "Epoch 3/30\n",
      "25/25 [==============================] - 28s 1s/step - loss: 0.6740 - acc: 0.4960 - val_loss: 0.6640 - val_acc: 0.5000\n",
      "Epoch 4/30\n",
      "25/25 [==============================] - 31s 1s/step - loss: 0.6668 - acc: 0.5002 - val_loss: 0.6555 - val_acc: 0.5086\n",
      "Epoch 5/30\n",
      "25/25 [==============================] - 28s 1s/step - loss: 0.6579 - acc: 0.5172 - val_loss: 0.6435 - val_acc: 0.5230\n",
      "Epoch 6/30\n",
      "24/25 [===========================>..] - ETA: 1s - loss: 0.6450 - acc: 0.5328"
     ]
    }
   ],
   "source": [
    "history_2 = model.fit_generator(train_generator, \n",
    "                                steps_per_epoch=25, \n",
    "                                epochs=30, \n",
    "                                validation_data=val_generator, \n",
    "                                validation_steps=25)"
   ]
  },
  {
   "cell_type": "code",
   "execution_count": null,
   "metadata": {},
   "outputs": [],
   "source": [
    "test_x, test_y = next(test_generator)"
   ]
  },
  {
   "cell_type": "code",
   "execution_count": null,
   "metadata": {},
   "outputs": [],
   "source": [
    "results_test = model.evaluate(test_x, test_y)"
   ]
  },
  {
   "cell_type": "code",
   "execution_count": null,
   "metadata": {},
   "outputs": [],
   "source": [
    "results_test"
   ]
  },
  {
   "cell_type": "markdown",
   "metadata": {},
   "source": [
    "## Summary  \n",
    "\n",
    "In this code along lab, we looked again at some of the preprocessing techniques needed in order to organize our data prior to building a model using Keras. Afterwards, we investigated new code in order to build a CNN for image recognition."
   ]
  }
 ],
 "metadata": {
  "kernelspec": {
   "display_name": "Python 3",
   "language": "python",
   "name": "python3"
  },
  "language_info": {
   "codemirror_mode": {
    "name": "ipython",
    "version": 3
   },
   "file_extension": ".py",
   "mimetype": "text/x-python",
   "name": "python",
   "nbconvert_exporter": "python",
   "pygments_lexer": "ipython3",
   "version": "3.6.9"
  }
 },
 "nbformat": 4,
 "nbformat_minor": 2
}
